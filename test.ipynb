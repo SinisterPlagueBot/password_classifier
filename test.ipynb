{
 "cells": [
  {
   "cell_type": "code",
   "execution_count": 4,
   "metadata": {},
   "outputs": [],
   "source": [
    "def predict_password_classes(raw_passwords, vectorizer, transformer, model):\n",
    "    # Tokenize raw passwords\n",
    "    tokenized_passwords = vectorizer.transform(raw_passwords)\n",
    "    \n",
    "    # Normalize token counts using TF-IDF\n",
    "    normalized_tokenized_passwords = transformer.transform(tokenized_passwords)\n",
    "\n",
    "    # Predict classes\n",
    "    predicted_classes = model.predict(normalized_tokenized_passwords)\n",
    "   \n",
    "    \n",
    "    return predicted_classes"
   ]
  },
  {
   "cell_type": "code",
   "execution_count": 5,
   "metadata": {},
   "outputs": [],
   "source": [
    "from joblib import load\n",
    "\n",
    "# Load the saved model from the file\n",
    "loaded_model = load('trained_model.joblib')\n",
    "loaded_transformer = load('transformer.joblib')\n",
    "loaded_vectorizer = load('vectorizer.joblib')\n",
    "# Now you can use loaded_model for making predictions\n",
    "\n"
   ]
  },
  {
   "cell_type": "code",
   "execution_count": null,
   "metadata": {},
   "outputs": [
    {
     "name": "stdout",
     "output_type": "stream",
     "text": [
      "Predicted classes: 1\n"
     ]
    }
   ],
   "source": [
    "import numpy as np\n",
    "raw_passwords1=np.array([str(input())],dtype='str')\n",
    "raw_passwords2 = ['strongpassword']\n",
    "\n",
    "\n",
    "# Predict classes for all passwords\n",
    "\n",
    "# Predict classes for all passwords\n",
    "predicted_classes = predict_password_classes(raw_passwords2, loaded_vectorizer,loaded_transformer , loaded_model)\n",
    "\n",
    "print(\"Predicted classes:\", predicted_classes[0])"
   ]
  },
  {
   "cell_type": "code",
   "execution_count": 31,
   "metadata": {},
   "outputs": [
    {
     "name": "stdout",
     "output_type": "stream",
     "text": [
      " * Serving Flask app '__main__'\n",
      " * Debug mode: off\n"
     ]
    },
    {
     "name": "stderr",
     "output_type": "stream",
     "text": [
      "WARNING: This is a development server. Do not use it in a production deployment. Use a production WSGI server instead.\n",
      " * Running on http://127.0.0.1:5777\n",
      "Press CTRL+C to quit\n"
     ]
    },
    {
     "name": "stderr",
     "output_type": "stream",
     "text": [
      "127.0.0.1 - - [11/Mar/2024 01:30:18] \"OPTIONS /password HTTP/1.1\" 200 -\n",
      "127.0.0.1 - - [11/Mar/2024 01:30:18] \"POST /password HTTP/1.1\" 200 -\n",
      "127.0.0.1 - - [11/Mar/2024 01:30:35] \"OPTIONS /password HTTP/1.1\" 200 -\n",
      "127.0.0.1 - - [11/Mar/2024 01:30:35] \"POST /password HTTP/1.1\" 200 -\n",
      "127.0.0.1 - - [11/Mar/2024 01:31:21] \"OPTIONS /password HTTP/1.1\" 200 -\n",
      "127.0.0.1 - - [11/Mar/2024 01:31:21] \"POST /password HTTP/1.1\" 200 -\n",
      "127.0.0.1 - - [11/Mar/2024 01:31:22] \"POST /password HTTP/1.1\" 200 -\n",
      "127.0.0.1 - - [11/Mar/2024 01:31:37] \"OPTIONS /password HTTP/1.1\" 200 -\n",
      "127.0.0.1 - - [11/Mar/2024 01:31:37] \"POST /password HTTP/1.1\" 200 -\n",
      "127.0.0.1 - - [11/Mar/2024 01:32:11] \"OPTIONS /password HTTP/1.1\" 200 -\n",
      "127.0.0.1 - - [11/Mar/2024 01:32:11] \"POST /password HTTP/1.1\" 200 -\n",
      "127.0.0.1 - - [11/Mar/2024 01:32:13] \"POST /password HTTP/1.1\" 200 -\n",
      "127.0.0.1 - - [11/Mar/2024 01:32:16] \"POST /password HTTP/1.1\" 200 -\n",
      "127.0.0.1 - - [11/Mar/2024 01:32:19] \"OPTIONS /password HTTP/1.1\" 200 -\n",
      "127.0.0.1 - - [11/Mar/2024 01:32:19] \"POST /password HTTP/1.1\" 200 -\n",
      "127.0.0.1 - - [11/Mar/2024 01:32:21] \"POST /password HTTP/1.1\" 200 -\n",
      "127.0.0.1 - - [11/Mar/2024 01:32:28] \"OPTIONS /password HTTP/1.1\" 200 -\n",
      "127.0.0.1 - - [11/Mar/2024 01:32:28] \"POST /password HTTP/1.1\" 200 -\n",
      "127.0.0.1 - - [11/Mar/2024 01:32:50] \"OPTIONS /password HTTP/1.1\" 200 -\n",
      "127.0.0.1 - - [11/Mar/2024 01:32:50] \"POST /password HTTP/1.1\" 200 -\n",
      "127.0.0.1 - - [11/Mar/2024 01:32:56] \"OPTIONS /password HTTP/1.1\" 200 -\n",
      "127.0.0.1 - - [11/Mar/2024 01:32:56] \"POST /password HTTP/1.1\" 200 -\n",
      "127.0.0.1 - - [11/Mar/2024 01:33:03] \"OPTIONS /password HTTP/1.1\" 200 -\n",
      "127.0.0.1 - - [11/Mar/2024 01:33:03] \"POST /password HTTP/1.1\" 200 -\n",
      "127.0.0.1 - - [11/Mar/2024 01:35:44] \"OPTIONS /password HTTP/1.1\" 200 -\n",
      "127.0.0.1 - - [11/Mar/2024 01:35:44] \"POST /password HTTP/1.1\" 200 -\n",
      "127.0.0.1 - - [11/Mar/2024 01:35:53] \"OPTIONS /password HTTP/1.1\" 200 -\n",
      "127.0.0.1 - - [11/Mar/2024 01:35:53] \"POST /password HTTP/1.1\" 200 -\n",
      "127.0.0.1 - - [11/Mar/2024 01:35:54] \"POST /password HTTP/1.1\" 200 -\n",
      "127.0.0.1 - - [11/Mar/2024 01:35:55] \"POST /password HTTP/1.1\" 200 -\n",
      "127.0.0.1 - - [11/Mar/2024 01:35:56] \"POST /password HTTP/1.1\" 200 -\n",
      "127.0.0.1 - - [11/Mar/2024 01:35:58] \"POST /password HTTP/1.1\" 200 -\n",
      "127.0.0.1 - - [11/Mar/2024 01:36:00] \"OPTIONS /password HTTP/1.1\" 200 -\n",
      "127.0.0.1 - - [11/Mar/2024 01:36:00] \"POST /password HTTP/1.1\" 200 -\n",
      "127.0.0.1 - - [11/Mar/2024 01:38:46] \"OPTIONS /password HTTP/1.1\" 200 -\n",
      "127.0.0.1 - - [11/Mar/2024 01:38:46] \"POST /password HTTP/1.1\" 200 -\n",
      "127.0.0.1 - - [11/Mar/2024 01:38:55] \"OPTIONS /password HTTP/1.1\" 200 -\n",
      "127.0.0.1 - - [11/Mar/2024 01:38:55] \"POST /password HTTP/1.1\" 200 -\n",
      "127.0.0.1 - - [11/Mar/2024 01:39:08] \"OPTIONS /password HTTP/1.1\" 200 -\n",
      "127.0.0.1 - - [11/Mar/2024 01:39:08] \"POST /password HTTP/1.1\" 200 -\n",
      "127.0.0.1 - - [11/Mar/2024 01:39:08] \"POST /password HTTP/1.1\" 200 -\n",
      "127.0.0.1 - - [11/Mar/2024 01:39:28] \"OPTIONS /password HTTP/1.1\" 200 -\n",
      "127.0.0.1 - - [11/Mar/2024 01:39:28] \"POST /password HTTP/1.1\" 200 -\n",
      "127.0.0.1 - - [11/Mar/2024 01:39:34] \"OPTIONS /password HTTP/1.1\" 200 -\n",
      "127.0.0.1 - - [11/Mar/2024 01:39:34] \"POST /password HTTP/1.1\" 200 -\n",
      "127.0.0.1 - - [11/Mar/2024 01:39:43] \"OPTIONS /password HTTP/1.1\" 200 -\n",
      "127.0.0.1 - - [11/Mar/2024 01:39:43] \"POST /password HTTP/1.1\" 200 -\n",
      "127.0.0.1 - - [11/Mar/2024 01:39:45] \"POST /password HTTP/1.1\" 200 -\n",
      "127.0.0.1 - - [11/Mar/2024 01:39:48] \"POST /password HTTP/1.1\" 200 -\n",
      "127.0.0.1 - - [11/Mar/2024 01:40:21] \"OPTIONS /password HTTP/1.1\" 200 -\n",
      "127.0.0.1 - - [11/Mar/2024 01:40:21] \"POST /password HTTP/1.1\" 200 -\n",
      "127.0.0.1 - - [11/Mar/2024 01:40:45] \"OPTIONS /password HTTP/1.1\" 200 -\n",
      "127.0.0.1 - - [11/Mar/2024 01:40:45] \"POST /password HTTP/1.1\" 200 -\n",
      "127.0.0.1 - - [11/Mar/2024 01:40:57] \"OPTIONS /password HTTP/1.1\" 200 -\n",
      "127.0.0.1 - - [11/Mar/2024 01:40:57] \"POST /password HTTP/1.1\" 200 -\n",
      "127.0.0.1 - - [11/Mar/2024 01:40:58] \"POST /password HTTP/1.1\" 200 -\n",
      "127.0.0.1 - - [11/Mar/2024 01:41:07] \"OPTIONS /password HTTP/1.1\" 200 -\n",
      "127.0.0.1 - - [11/Mar/2024 01:41:07] \"POST /password HTTP/1.1\" 200 -\n",
      "127.0.0.1 - - [11/Mar/2024 01:41:08] \"POST /password HTTP/1.1\" 200 -\n",
      "127.0.0.1 - - [11/Mar/2024 01:41:09] \"POST /password HTTP/1.1\" 200 -\n",
      "127.0.0.1 - - [11/Mar/2024 01:41:11] \"POST /password HTTP/1.1\" 200 -\n",
      "127.0.0.1 - - [11/Mar/2024 01:41:12] \"POST /password HTTP/1.1\" 200 -\n",
      "127.0.0.1 - - [11/Mar/2024 01:41:13] \"OPTIONS /password HTTP/1.1\" 200 -\n",
      "127.0.0.1 - - [11/Mar/2024 01:41:13] \"POST /password HTTP/1.1\" 200 -\n",
      "127.0.0.1 - - [11/Mar/2024 01:41:13] \"POST /password HTTP/1.1\" 200 -\n",
      "127.0.0.1 - - [11/Mar/2024 01:41:14] \"POST /password HTTP/1.1\" 200 -\n",
      "127.0.0.1 - - [11/Mar/2024 01:41:15] \"POST /password HTTP/1.1\" 200 -\n",
      "127.0.0.1 - - [11/Mar/2024 01:41:16] \"POST /password HTTP/1.1\" 200 -\n",
      "127.0.0.1 - - [11/Mar/2024 01:41:26] \"OPTIONS /password HTTP/1.1\" 200 -\n",
      "127.0.0.1 - - [11/Mar/2024 01:41:26] \"POST /password HTTP/1.1\" 200 -\n",
      "127.0.0.1 - - [11/Mar/2024 01:41:48] \"OPTIONS /password HTTP/1.1\" 200 -\n",
      "127.0.0.1 - - [11/Mar/2024 01:41:48] \"POST /password HTTP/1.1\" 200 -\n",
      "127.0.0.1 - - [11/Mar/2024 01:41:51] \"POST /password HTTP/1.1\" 200 -\n",
      "127.0.0.1 - - [11/Mar/2024 01:41:57] \"OPTIONS /password HTTP/1.1\" 200 -\n",
      "127.0.0.1 - - [11/Mar/2024 01:41:57] \"POST /password HTTP/1.1\" 200 -\n",
      "127.0.0.1 - - [11/Mar/2024 01:42:22] \"OPTIONS /password HTTP/1.1\" 200 -\n",
      "127.0.0.1 - - [11/Mar/2024 01:42:22] \"POST /password HTTP/1.1\" 200 -\n",
      "127.0.0.1 - - [11/Mar/2024 01:42:29] \"OPTIONS /password HTTP/1.1\" 200 -\n",
      "127.0.0.1 - - [11/Mar/2024 01:42:29] \"POST /password HTTP/1.1\" 200 -\n",
      "127.0.0.1 - - [11/Mar/2024 01:42:33] \"POST /password HTTP/1.1\" 200 -\n",
      "127.0.0.1 - - [11/Mar/2024 01:44:05] \"OPTIONS /password HTTP/1.1\" 200 -\n",
      "127.0.0.1 - - [11/Mar/2024 01:44:05] \"POST /password HTTP/1.1\" 200 -\n",
      "127.0.0.1 - - [11/Mar/2024 01:44:15] \"OPTIONS /password HTTP/1.1\" 200 -\n",
      "127.0.0.1 - - [11/Mar/2024 01:44:15] \"POST /password HTTP/1.1\" 200 -\n",
      "127.0.0.1 - - [11/Mar/2024 01:44:29] \"OPTIONS /password HTTP/1.1\" 200 -\n",
      "127.0.0.1 - - [11/Mar/2024 01:44:29] \"POST /password HTTP/1.1\" 200 -\n"
     ]
    }
   ],
   "source": [
    "from flask import Flask, request\n",
    "from flask_cors import CORS\n",
    "\n",
    "# Create Flask app\n",
    "app = Flask(__name__)\n",
    "CORS(app)  # This will enable CORS for all routes\n",
    "\n",
    "# Define a route\n",
    "@app.route('/')\n",
    "def index():\n",
    "    return 'Hello, World!'\n",
    "\n",
    "@app.route('/password', methods=['POST'])\n",
    "def predict_pass():\n",
    "    # Get the string data from the request\n",
    "    data = request.json  # Assuming the data is sent as JSON\n",
    "    \n",
    "    # Check if the 'password' key exists in the JSON data\n",
    "    if 'password' in data:\n",
    "        # Extract the string from the JSON data\n",
    "        string_to_process = data['password']\n",
    "        \n",
    "        # Process the string (you can replace this with your own processing logic)\n",
    "        predicted_class= predict_password_classes([string_to_process], loaded_vectorizer,loaded_transformer , loaded_model)\n",
    "        # Convert the string to uppercase\n",
    "        strength_map={0:\"weak\",\n",
    "              1:\"mid\",\n",
    "              2:\"Strong\"}\n",
    "        # Return the processed string as a JSON response\n",
    "        return {'predicted': str(strength_map.get(predicted_class[0]))}\n",
    "    else:\n",
    "        # If 'password' key is not present in the JSON data, return an error response\n",
    "        return {'error': 'No string provided'}, 400\n",
    "\n",
    "# Run the Flask app\n",
    "if __name__ == '__main__':\n",
    "    app.run(port=5777)"
   ]
  }
 ],
 "metadata": {
  "kernelspec": {
   "display_name": "Python 3",
   "language": "python",
   "name": "python3"
  },
  "language_info": {
   "codemirror_mode": {
    "name": "ipython",
    "version": 3
   },
   "file_extension": ".py",
   "mimetype": "text/x-python",
   "name": "python",
   "nbconvert_exporter": "python",
   "pygments_lexer": "ipython3",
   "version": "3.11.4"
  }
 },
 "nbformat": 4,
 "nbformat_minor": 2
}
