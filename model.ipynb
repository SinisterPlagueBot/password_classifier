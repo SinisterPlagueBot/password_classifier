{
 "cells": [
  {
   "cell_type": "code",
   "execution_count": 1,
   "metadata": {},
   "outputs": [],
   "source": [
    "import numpy as np\n",
    "import pandas as pd"
   ]
  },
  {
   "cell_type": "code",
   "execution_count": 2,
   "metadata": {},
   "outputs": [
    {
     "name": "stderr",
     "output_type": "stream",
     "text": [
      "Skipping line 4644: expected 2 fields, saw 5\n",
      "Skipping line 7174: expected 2 fields, saw 5\n",
      "Skipping line 11223: expected 2 fields, saw 5\n",
      "Skipping line 13812: expected 2 fields, saw 5\n",
      "Skipping line 14135: expected 2 fields, saw 5\n",
      "Skipping line 14296: expected 2 fields, saw 5\n",
      "Skipping line 14868: expected 2 fields, saw 5\n",
      "Skipping line 17422: expected 2 fields, saw 5\n",
      "Skipping line 22804: expected 2 fields, saw 5\n",
      "Skipping line 25004: expected 2 fields, saw 5\n",
      "Skipping line 26606: expected 2 fields, saw 5\n",
      "Skipping line 26745: expected 2 fields, saw 5\n",
      "Skipping line 29705: expected 2 fields, saw 5\n",
      "Skipping line 32770: expected 2 fields, saw 5\n",
      "Skipping line 32881: expected 2 fields, saw 5\n",
      "Skipping line 35646: expected 2 fields, saw 5\n",
      "Skipping line 36553: expected 2 fields, saw 5\n",
      "Skipping line 38735: expected 2 fields, saw 5\n",
      "Skipping line 40570: expected 2 fields, saw 5\n",
      "Skipping line 40579: expected 2 fields, saw 5\n",
      "Skipping line 41867: expected 2 fields, saw 5\n",
      "Skipping line 46864: expected 2 fields, saw 5\n",
      "Skipping line 47942: expected 2 fields, saw 5\n",
      "Skipping line 48631: expected 2 fields, saw 5\n",
      "Skipping line 48911: expected 2 fields, saw 5\n",
      "Skipping line 57585: expected 2 fields, saw 5\n",
      "Skipping line 58785: expected 2 fields, saw 5\n",
      "Skipping line 58987: expected 2 fields, saw 5\n",
      "Skipping line 61521: expected 2 fields, saw 5\n",
      "Skipping line 63454: expected 2 fields, saw 5\n",
      "Skipping line 68144: expected 2 fields, saw 5\n",
      "Skipping line 72086: expected 2 fields, saw 5\n",
      "Skipping line 74030: expected 2 fields, saw 5\n",
      "Skipping line 77814: expected 2 fields, saw 5\n",
      "Skipping line 83961: expected 2 fields, saw 5\n",
      "Skipping line 85298: expected 2 fields, saw 5\n",
      "Skipping line 88668: expected 2 fields, saw 5\n",
      "Skipping line 89201: expected 2 fields, saw 5\n",
      "Skipping line 92502: expected 2 fields, saw 5\n",
      "Skipping line 92754: expected 2 fields, saw 5\n",
      "Skipping line 93692: expected 2 fields, saw 5\n",
      "Skipping line 94779: expected 2 fields, saw 5\n",
      "Skipping line 97337: expected 2 fields, saw 5\n",
      "Skipping line 102319: expected 2 fields, saw 5\n",
      "Skipping line 103424: expected 2 fields, saw 5\n",
      "Skipping line 106875: expected 2 fields, saw 5\n",
      "Skipping line 109366: expected 2 fields, saw 5\n",
      "Skipping line 110120: expected 2 fields, saw 5\n",
      "Skipping line 110468: expected 2 fields, saw 5\n",
      "Skipping line 113846: expected 2 fields, saw 5\n",
      "Skipping line 115637: expected 2 fields, saw 5\n",
      "Skipping line 121521: expected 2 fields, saw 5\n",
      "Skipping line 123695: expected 2 fields, saw 5\n",
      "Skipping line 124711: expected 2 fields, saw 5\n",
      "Skipping line 129611: expected 2 fields, saw 5\n",
      "Skipping line 133179: expected 2 fields, saw 5\n",
      "Skipping line 135535: expected 2 fields, saw 5\n",
      "Skipping line 138045: expected 2 fields, saw 5\n",
      "Skipping line 139488: expected 2 fields, saw 5\n",
      "Skipping line 140404: expected 2 fields, saw 5\n",
      "Skipping line 144096: expected 2 fields, saw 5\n",
      "Skipping line 149853: expected 2 fields, saw 5\n",
      "Skipping line 151834: expected 2 fields, saw 5\n",
      "Skipping line 158017: expected 2 fields, saw 5\n",
      "Skipping line 162050: expected 2 fields, saw 5\n",
      "Skipping line 164518: expected 2 fields, saw 5\n",
      "Skipping line 170316: expected 2 fields, saw 5\n",
      "Skipping line 171328: expected 2 fields, saw 5\n",
      "Skipping line 171427: expected 2 fields, saw 5\n",
      "Skipping line 175923: expected 2 fields, saw 5\n",
      "Skipping line 176213: expected 2 fields, saw 5\n",
      "Skipping line 183606: expected 2 fields, saw 5\n",
      "Skipping line 190267: expected 2 fields, saw 5\n",
      "Skipping line 191686: expected 2 fields, saw 5\n",
      "Skipping line 191991: expected 2 fields, saw 5\n",
      "Skipping line 195453: expected 2 fields, saw 5\n",
      "Skipping line 195757: expected 2 fields, saw 5\n",
      "Skipping line 197127: expected 2 fields, saw 5\n",
      "Skipping line 199266: expected 2 fields, saw 5\n",
      "Skipping line 202606: expected 2 fields, saw 5\n",
      "Skipping line 209963: expected 2 fields, saw 5\n",
      "Skipping line 213221: expected 2 fields, saw 5\n",
      "Skipping line 217063: expected 2 fields, saw 5\n",
      "Skipping line 220124: expected 2 fields, saw 5\n",
      "Skipping line 223521: expected 2 fields, saw 5\n",
      "Skipping line 226296: expected 2 fields, saw 5\n",
      "Skipping line 227038: expected 2 fields, saw 7\n",
      "Skipping line 227344: expected 2 fields, saw 5\n",
      "Skipping line 227811: expected 2 fields, saw 5\n",
      "Skipping line 228519: expected 2 fields, saw 5\n",
      "Skipping line 228736: expected 2 fields, saw 5\n",
      "Skipping line 232046: expected 2 fields, saw 5\n",
      "Skipping line 232429: expected 2 fields, saw 5\n",
      "Skipping line 234493: expected 2 fields, saw 5\n",
      "Skipping line 239629: expected 2 fields, saw 5\n",
      "Skipping line 240464: expected 2 fields, saw 5\n",
      "Skipping line 244521: expected 2 fields, saw 5\n",
      "Skipping line 245398: expected 2 fields, saw 5\n",
      "Skipping line 246171: expected 2 fields, saw 5\n",
      "Skipping line 246658: expected 2 fields, saw 5\n",
      "Skipping line 246755: expected 2 fields, saw 5\n",
      "Skipping line 247192: expected 2 fields, saw 5\n",
      "Skipping line 250279: expected 2 fields, saw 5\n",
      "Skipping line 255330: expected 2 fields, saw 5\n",
      "Skipping line 257097: expected 2 fields, saw 5\n",
      "\n",
      "Skipping line 264629: expected 2 fields, saw 5\n",
      "Skipping line 265031: expected 2 fields, saw 5\n",
      "Skipping line 269153: expected 2 fields, saw 5\n",
      "Skipping line 271363: expected 2 fields, saw 5\n",
      "Skipping line 273978: expected 2 fields, saw 5\n",
      "Skipping line 274745: expected 2 fields, saw 5\n",
      "Skipping line 276230: expected 2 fields, saw 5\n",
      "Skipping line 279810: expected 2 fields, saw 5\n",
      "Skipping line 283428: expected 2 fields, saw 5\n",
      "Skipping line 287471: expected 2 fields, saw 5\n",
      "Skipping line 292998: expected 2 fields, saw 5\n",
      "Skipping line 293499: expected 2 fields, saw 5\n",
      "Skipping line 293738: expected 2 fields, saw 5\n",
      "Skipping line 295063: expected 2 fields, saw 5\n",
      "Skipping line 296646: expected 2 fields, saw 5\n",
      "Skipping line 296851: expected 2 fields, saw 5\n",
      "Skipping line 308929: expected 2 fields, saw 5\n",
      "Skipping line 310363: expected 2 fields, saw 5\n",
      "Skipping line 317007: expected 2 fields, saw 5\n",
      "Skipping line 318210: expected 2 fields, saw 5\n",
      "Skipping line 331786: expected 2 fields, saw 5\n",
      "Skipping line 333867: expected 2 fields, saw 5\n",
      "Skipping line 335961: expected 2 fields, saw 5\n",
      "Skipping line 336293: expected 2 fields, saw 5\n",
      "Skipping line 343529: expected 2 fields, saw 5\n",
      "Skipping line 343860: expected 2 fields, saw 5\n",
      "Skipping line 344062: expected 2 fields, saw 5\n",
      "Skipping line 348694: expected 2 fields, saw 5\n",
      "Skipping line 353449: expected 2 fields, saw 5\n",
      "Skipping line 357076: expected 2 fields, saw 5\n",
      "Skipping line 359756: expected 2 fields, saw 5\n",
      "Skipping line 359977: expected 2 fields, saw 5\n",
      "Skipping line 366537: expected 2 fields, saw 5\n",
      "Skipping line 369517: expected 2 fields, saw 5\n",
      "Skipping line 377762: expected 2 fields, saw 5\n",
      "Skipping line 379330: expected 2 fields, saw 5\n",
      "Skipping line 380772: expected 2 fields, saw 5\n",
      "Skipping line 381076: expected 2 fields, saw 5\n",
      "Skipping line 381492: expected 2 fields, saw 5\n",
      "Skipping line 386307: expected 2 fields, saw 5\n",
      "Skipping line 387638: expected 2 fields, saw 5\n",
      "Skipping line 389616: expected 2 fields, saw 5\n",
      "Skipping line 392607: expected 2 fields, saw 5\n",
      "Skipping line 393187: expected 2 fields, saw 5\n",
      "Skipping line 395533: expected 2 fields, saw 5\n",
      "Skipping line 396942: expected 2 fields, saw 5\n",
      "Skipping line 397388: expected 2 fields, saw 5\n",
      "Skipping line 397512: expected 2 fields, saw 5\n",
      "Skipping line 402905: expected 2 fields, saw 5\n",
      "Skipping line 405190: expected 2 fields, saw 5\n",
      "Skipping line 408415: expected 2 fields, saw 5\n",
      "Skipping line 419426: expected 2 fields, saw 5\n",
      "Skipping line 420965: expected 2 fields, saw 5\n",
      "Skipping line 425968: expected 2 fields, saw 5\n",
      "Skipping line 427499: expected 2 fields, saw 5\n",
      "Skipping line 438884: expected 2 fields, saw 5\n",
      "Skipping line 439779: expected 2 fields, saw 5\n",
      "Skipping line 440348: expected 2 fields, saw 5\n",
      "Skipping line 445510: expected 2 fields, saw 5\n",
      "Skipping line 445551: expected 2 fields, saw 5\n",
      "Skipping line 447187: expected 2 fields, saw 5\n",
      "Skipping line 448606: expected 2 fields, saw 5\n",
      "Skipping line 451735: expected 2 fields, saw 5\n",
      "Skipping line 458252: expected 2 fields, saw 5\n",
      "Skipping line 460277: expected 2 fields, saw 5\n",
      "Skipping line 467633: expected 2 fields, saw 5\n",
      "Skipping line 473964: expected 2 fields, saw 5\n",
      "Skipping line 476284: expected 2 fields, saw 5\n",
      "Skipping line 478013: expected 2 fields, saw 5\n",
      "Skipping line 478325: expected 2 fields, saw 5\n",
      "Skipping line 480002: expected 2 fields, saw 5\n",
      "Skipping line 480901: expected 2 fields, saw 5\n",
      "Skipping line 481691: expected 2 fields, saw 5\n",
      "Skipping line 485196: expected 2 fields, saw 5\n",
      "Skipping line 485522: expected 2 fields, saw 5\n",
      "Skipping line 486003: expected 2 fields, saw 5\n",
      "Skipping line 489066: expected 2 fields, saw 5\n",
      "Skipping line 494528: expected 2 fields, saw 5\n",
      "Skipping line 495012: expected 2 fields, saw 5\n",
      "Skipping line 501957: expected 2 fields, saw 5\n",
      "Skipping line 508038: expected 2 fields, saw 5\n",
      "Skipping line 508831: expected 2 fields, saw 5\n",
      "Skipping line 509836: expected 2 fields, saw 5\n",
      "Skipping line 510413: expected 2 fields, saw 5\n",
      "Skipping line 518232: expected 2 fields, saw 5\n",
      "Skipping line 520305: expected 2 fields, saw 5\n",
      "Skipping line 520343: expected 2 fields, saw 5\n",
      "\n",
      "Skipping line 525177: expected 2 fields, saw 5\n",
      "Skipping line 526254: expected 2 fields, saw 5\n",
      "Skipping line 529614: expected 2 fields, saw 5\n",
      "Skipping line 531401: expected 2 fields, saw 5\n",
      "Skipping line 534149: expected 2 fields, saw 5\n",
      "Skipping line 544957: expected 2 fields, saw 5\n",
      "Skipping line 553005: expected 2 fields, saw 5\n",
      "Skipping line 553886: expected 2 fields, saw 5\n",
      "Skipping line 553890: expected 2 fields, saw 5\n",
      "Skipping line 553918: expected 2 fields, saw 5\n",
      "Skipping line 554175: expected 2 fields, saw 5\n",
      "Skipping line 563537: expected 2 fields, saw 5\n",
      "Skipping line 565194: expected 2 fields, saw 5\n",
      "Skipping line 574111: expected 2 fields, saw 5\n",
      "Skipping line 574415: expected 2 fields, saw 5\n",
      "Skipping line 575988: expected 2 fields, saw 5\n",
      "Skipping line 580094: expected 2 fields, saw 5\n",
      "Skipping line 582685: expected 2 fields, saw 5\n",
      "Skipping line 585888: expected 2 fields, saw 5\n",
      "Skipping line 590174: expected 2 fields, saw 5\n",
      "Skipping line 591927: expected 2 fields, saw 5\n",
      "Skipping line 592518: expected 2 fields, saw 5\n",
      "Skipping line 593891: expected 2 fields, saw 5\n",
      "Skipping line 596248: expected 2 fields, saw 5\n",
      "Skipping line 607347: expected 2 fields, saw 5\n",
      "Skipping line 607636: expected 2 fields, saw 5\n",
      "Skipping line 610942: expected 2 fields, saw 5\n",
      "Skipping line 613641: expected 2 fields, saw 5\n",
      "Skipping line 615646: expected 2 fields, saw 5\n",
      "Skipping line 615904: expected 2 fields, saw 5\n",
      "Skipping line 617392: expected 2 fields, saw 5\n",
      "Skipping line 634644: expected 2 fields, saw 5\n",
      "Skipping line 635758: expected 2 fields, saw 5\n",
      "Skipping line 646246: expected 2 fields, saw 5\n",
      "Skipping line 647168: expected 2 fields, saw 5\n",
      "Skipping line 648613: expected 2 fields, saw 5\n",
      "Skipping line 648775: expected 2 fields, saw 5\n",
      "Skipping line 651836: expected 2 fields, saw 5\n",
      "Skipping line 653666: expected 2 fields, saw 5\n",
      "Skipping line 656236: expected 2 fields, saw 5\n",
      "Skipping line 656697: expected 2 fields, saw 5\n",
      "Skipping line 659786: expected 2 fields, saw 5\n",
      "Skipping line 660481: expected 2 fields, saw 5\n",
      "Skipping line 661136: expected 2 fields, saw 5\n",
      "Skipping line 661739: expected 2 fields, saw 5\n",
      "Skipping line 669830: expected 2 fields, saw 5\n",
      "\n"
     ]
    }
   ],
   "source": [
    "df = pd.read_csv('data.csv',on_bad_lines='warn')"
   ]
  },
  {
   "cell_type": "code",
   "execution_count": 3,
   "metadata": {},
   "outputs": [
    {
     "data": {
      "text/plain": [
       "array([1, 2, 0], dtype=int64)"
      ]
     },
     "execution_count": 3,
     "metadata": {},
     "output_type": "execute_result"
    }
   ],
   "source": [
    "#data description\n",
    "df.describe\n",
    "df['strength'].unique()"
   ]
  },
  {
   "cell_type": "code",
   "execution_count": 4,
   "metadata": {},
   "outputs": [
    {
     "name": "stdout",
     "output_type": "stream",
     "text": [
      "number of null rows password    1\n",
      "strength    0\n",
      "dtype: int64\n",
      "number of null rows after deletion password    0\n",
      "strength    0\n",
      "dtype: int64\n"
     ]
    }
   ],
   "source": [
    "print('number of null rows',df.isnull().sum())\n",
    "df.dropna(inplace=True)\n",
    "print('number of null rows after deletion',df.isnull().sum())"
   ]
  },
  {
   "cell_type": "markdown",
   "metadata": {},
   "source": [
    "visualise the strength distrubtion"
   ]
  },
  {
   "cell_type": "code",
   "execution_count": 5,
   "metadata": {},
   "outputs": [],
   "source": [
    "import seaborn as sns\n"
   ]
  },
  {
   "cell_type": "code",
   "execution_count": 6,
   "metadata": {},
   "outputs": [
    {
     "data": {
      "text/plain": [
       "<Axes: xlabel='strength', ylabel='count'>"
      ]
     },
     "execution_count": 6,
     "metadata": {},
     "output_type": "execute_result"
    },
    {
     "data": {
      "image/png": "[encoded data removed]",
      "text/plain": [
       "<Figure size 640x480 with 1 Axes>"
      ]
     },
     "metadata": {},
     "output_type": "display_data"
    }
   ],
   "source": [
    "sns.countplot(x='strength',data=df)"
   ]
  },
  {
   "cell_type": "code",
   "execution_count": 7,
   "metadata": {},
   "outputs": [
    {
     "name": "stdout",
     "output_type": "stream",
     "text": [
      "[0 0 0 0 0 0 0 0 0 0 0 0 0 0 0 0 0 0 0 0 0 0 0 0 0 0 0 0 0 0 0 0 0 0 0 0 0\n",
      " 0 0 2 0 2 0 0 0 0 0 0 0 0 0 0 0 0 0 0 0 0 0 1 1 0 0 0 0 0 1 0 0 0 0 0 0 0\n",
      " 0 0 0 0 0 0 0 1 0 0 0 0 0 0 0 0 0 0 0 0 0 0 0 0 0 0 0 0 0 0 0 0 0 0 0 0 0\n",
      " 0 0 0 0 0 0 0 0 0 0 0 0 0 0 0 0 0 0 0 0 0 0 0 0 0 0 0 0 0 0 0 0 0 0 0 0 0\n",
      " 0 0 0 0 0]\n"
     ]
    }
   ],
   "source": [
    "from sklearn.feature_extraction.text import CountVectorizer, TfidfTransformer\n",
    "\n",
    "# Example dataset of passwords\n",
    "passwords = df['password']\n",
    "\n",
    "# Initialize CountVectorizer\n",
    "vectorizer = CountVectorizer(analyzer='char')\n",
    "\n",
    "# Fit and transform the passwords\n",
    "X = vectorizer.fit_transform(passwords)\n",
    "\n",
    "# Convert the transformed data to an array\n",
    "tokenized_passwords = X.toarray()\n",
    "\n",
    "print(tokenized_passwords[0])\n"
   ]
  },
  {
   "cell_type": "markdown",
   "metadata": {},
   "source": [
    "lets normalize data"
   ]
  },
  {
   "cell_type": "code",
   "execution_count": 8,
   "metadata": {},
   "outputs": [
    {
     "name": "stdout",
     "output_type": "stream",
     "text": [
      "[0.         0.         0.         0.         0.         0.\n",
      " 0.         0.         0.         0.         0.         0.\n",
      " 0.         0.         0.         0.         0.         0.\n",
      " 0.         0.         0.         0.         0.         0.\n",
      " 0.         0.         0.         0.         0.         0.\n",
      " 0.         0.         0.         0.         0.         0.\n",
      " 0.         0.         0.         0.56689871 0.         0.59130282\n",
      " 0.         0.         0.         0.         0.         0.\n",
      " 0.         0.         0.         0.         0.         0.\n",
      " 0.         0.         0.         0.         0.         0.28563206\n",
      " 0.22168931 0.         0.         0.         0.         0.\n",
      " 0.29224738 0.         0.         0.         0.         0.\n",
      " 0.         0.         0.         0.         0.         0.\n",
      " 0.         0.         0.         0.33592629 0.         0.\n",
      " 0.         0.         0.         0.         0.         0.\n",
      " 0.         0.         0.         0.         0.         0.\n",
      " 0.         0.         0.         0.         0.         0.\n",
      " 0.         0.         0.         0.         0.         0.\n",
      " 0.         0.         0.         0.         0.         0.\n",
      " 0.         0.         0.         0.         0.         0.\n",
      " 0.         0.         0.         0.         0.         0.\n",
      " 0.         0.         0.         0.         0.         0.\n",
      " 0.         0.         0.         0.         0.         0.\n",
      " 0.         0.         0.         0.         0.         0.\n",
      " 0.         0.         0.         0.         0.         0.\n",
      " 0.         0.         0.        ]\n"
     ]
    }
   ],
   "source": [
    "tfidf_transformer = TfidfTransformer()\n",
    "X_tfidf = tfidf_transformer.fit_transform(X)\n",
    "\n",
    "# Convert the transformed data to an array\n",
    "normalized_tokenized_passwords = X_tfidf.toarray()\n",
    "print(normalized_tokenized_passwords[0])"
   ]
  },
  {
   "cell_type": "code",
   "execution_count": 9,
   "metadata": {},
   "outputs": [],
   "source": [
    "from sklearn.linear_model import LogisticRegression\n",
    "from sklearn.model_selection import train_test_split\n",
    "x_train,x_test,y_train,y_test=train_test_split(normalized_tokenized_passwords,df['strength'],\n",
    "                                               random_state=42,train_size=0.7)"
   ]
  },
  {
   "cell_type": "code",
   "execution_count": 10,
   "metadata": {},
   "outputs": [
    {
     "data": {
      "text/html": [
       "<style>#sk-container-id-1 {color: black;}#sk-container-id-1 pre{padding: 0;}#sk-container-id-1 div.sk-toggleable {background-color: white;}#sk-container-id-1 label.sk-toggleable__label {cursor: pointer;display: block;width: 100%;margin-bottom: 0;padding: 0.3em;box-sizing: border-box;text-align: center;}#sk-container-id-1 label.sk-toggleable__label-arrow:before {content: \"▸\";float: left;margin-right: 0.25em;color: #696969;}#sk-container-id-1 label.sk-toggleable__label-arrow:hover:before {color: black;}#sk-container-id-1 div.sk-estimator:hover label.sk-toggleable__label-arrow:before {color: black;}#sk-container-id-1 div.sk-toggleable__content {max-height: 0;max-width: 0;overflow: hidden;text-align: left;background-color: #f0f8ff;}#sk-container-id-1 div.sk-toggleable__content pre {margin: 0.2em;color: black;border-radius: 0.25em;background-color: #f0f8ff;}#sk-container-id-1 input.sk-toggleable__control:checked~div.sk-toggleable__content {max-height: 200px;max-width: 100%;overflow: auto;}#sk-container-id-1 input.sk-toggleable__control:checked~label.sk-toggleable__label-arrow:before {content: \"▾\";}#sk-container-id-1 div.sk-estimator input.sk-toggleable__control:checked~label.sk-toggleable__label {background-color: #d4ebff;}#sk-container-id-1 div.sk-label input.sk-toggleable__control:checked~label.sk-toggleable__label {background-color: #d4ebff;}#sk-container-id-1 input.sk-hidden--visually {border: 0;clip: rect(1px 1px 1px 1px);clip: rect(1px, 1px, 1px, 1px);height: 1px;margin: -1px;overflow: hidden;padding: 0;position: absolute;width: 1px;}#sk-container-id-1 div.sk-estimator {font-family: monospace;background-color: #f0f8ff;border: 1px dotted black;border-radius: 0.25em;box-sizing: border-box;margin-bottom: 0.5em;}#sk-container-id-1 div.sk-estimator:hover {background-color: #d4ebff;}#sk-container-id-1 div.sk-parallel-item::after {content: \"\";width: 100%;border-bottom: 1px solid gray;flex-grow: 1;}#sk-container-id-1 div.sk-label:hover label.sk-toggleable__label {background-color: #d4ebff;}#sk-container-id-1 div.sk-serial::before {content: \"\";position: absolute;border-left: 1px solid gray;box-sizing: border-box;top: 0;bottom: 0;left: 50%;z-index: 0;}#sk-container-id-1 div.sk-serial {display: flex;flex-direction: column;align-items: center;background-color: white;padding-right: 0.2em;padding-left: 0.2em;position: relative;}#sk-container-id-1 div.sk-item {position: relative;z-index: 1;}#sk-container-id-1 div.sk-parallel {display: flex;align-items: stretch;justify-content: center;background-color: white;position: relative;}#sk-container-id-1 div.sk-item::before, #sk-container-id-1 div.sk-parallel-item::before {content: \"\";position: absolute;border-left: 1px solid gray;box-sizing: border-box;top: 0;bottom: 0;left: 50%;z-index: -1;}#sk-container-id-1 div.sk-parallel-item {display: flex;flex-direction: column;z-index: 1;position: relative;background-color: white;}#sk-container-id-1 div.sk-parallel-item:first-child::after {align-self: flex-end;width: 50%;}#sk-container-id-1 div.sk-parallel-item:last-child::after {align-self: flex-start;width: 50%;}#sk-container-id-1 div.sk-parallel-item:only-child::after {width: 0;}#sk-container-id-1 div.sk-dashed-wrapped {border: 1px dashed gray;margin: 0 0.4em 0.5em 0.4em;box-sizing: border-box;padding-bottom: 0.4em;background-color: white;}#sk-container-id-1 div.sk-label label {font-family: monospace;font-weight: bold;display: inline-block;line-height: 1.2em;}#sk-container-id-1 div.sk-label-container {text-align: center;}#sk-container-id-1 div.sk-container {/* jupyter's `normalize.less` sets `[hidden] { display: none; }` but bootstrap.min.css set `[hidden] { display: none !important; }` so we also need the `!important` here to be able to override the default hidden behavior on the sphinx rendered scikit-learn.org. See: https://github.com/scikit-learn/scikit-learn/issues/21755 */display: inline-block !important;position: relative;}#sk-container-id-1 div.sk-text-repr-fallback {display: none;}</style><div id=\"sk-container-id-1\" class=\"sk-top-container\"><div class=\"sk-text-repr-fallback\"><pre>LogisticRegression(max_iter=1000)</pre><b>In a Jupyter environment, please rerun this cell to show the HTML representation or trust the notebook. <br />On GitHub, the HTML representation is unable to render, please try loading this page with nbviewer.org.</b></div><div class=\"sk-container\" hidden><div class=\"sk-item\"><div class=\"sk-estimator sk-toggleable\"><input class=\"sk-toggleable__control sk-hidden--visually\" id=\"sk-estimator-id-1\" type=\"checkbox\" checked><label for=\"sk-estimator-id-1\" class=\"sk-toggleable__label sk-toggleable__label-arrow\">LogisticRegression</label><div class=\"sk-toggleable__content\"><pre>LogisticRegression(max_iter=1000)</pre></div></div></div></div></div>"
      ],
      "text/plain": [
       "LogisticRegression(max_iter=1000)"
      ]
     },
     "execution_count": 10,
     "metadata": {},
     "output_type": "execute_result"
    }
   ],
   "source": [
    "model1 = LogisticRegression(max_iter=1000)\n",
    "model1.fit(x_train,y_train)"
   ]
  },
  {
   "cell_type": "markdown",
   "metadata": {},
   "source": [
    "evaluation"
   ]
  },
  {
   "cell_type": "code",
   "execution_count": 11,
   "metadata": {},
   "outputs": [],
   "source": [
    "from sklearn.model_selection import cross_val_score"
   ]
  },
  {
   "cell_type": "code",
   "execution_count": 12,
   "metadata": {},
   "outputs": [
    {
     "name": "stdout",
     "output_type": "stream",
     "text": [
      "Cross-validation scores: [0.81778347 0.81914027]\n",
      "Mean CV score: 0.8184618666666666\n"
     ]
    }
   ],
   "source": [
    "\n",
    "cv_scores = cross_val_score(model1, x_train, y_train, cv=2, scoring='accuracy')\n",
    "\n",
    "# Print cross-validation scores\n",
    "print(\"Cross-validation scores:\", cv_scores)\n",
    "print(\"Mean CV score:\", cv_scores.mean())"
   ]
  },
  {
   "cell_type": "code",
   "execution_count": 13,
   "metadata": {},
   "outputs": [
    {
     "name": "stdout",
     "output_type": "stream",
     "text": [
      "Cross-validation scores: [0.81798361 0.81901718]\n",
      "Mean CV score: 0.8185003983054913\n"
     ]
    }
   ],
   "source": [
    "cv_scores = cross_val_score(model1, x_test, y_test, cv=2, scoring='accuracy')\n",
    "\n",
    "# Print cross-validation scores\n",
    "print(\"Cross-validation scores:\", cv_scores)\n",
    "print(\"Mean CV score:\", cv_scores.mean())"
   ]
  },
  {
   "cell_type": "code",
   "execution_count": 14,
   "metadata": {},
   "outputs": [
    {
     "name": "stdout",
     "output_type": "stream",
     "text": [
      "Accuracy: 0.8200186168756503\n"
     ]
    }
   ],
   "source": [
    "from sklearn.metrics import accuracy_score\n",
    "\n",
    "y_pred = model1.predict(x_test)\n",
    "\n",
    "# Calculate accuracy\n",
    "accuracy = accuracy_score(y_test, y_pred)\n",
    "print(\"Accuracy:\", accuracy)"
   ]
  },
  {
   "cell_type": "code",
   "execution_count": 21,
   "metadata": {},
   "outputs": [],
   "source": [
    "def predict_password_classes(raw_passwords, vectorizer, transformer, model):\n",
    "    # Tokenize raw passwords\n",
    "    tokenized_passwords = vectorizer.transform(raw_passwords)\n",
    "    \n",
    "    # Normalize token counts using TF-IDF\n",
    "    normalized_tokenized_passwords = transformer.transform(tokenized_passwords)\n",
    "\n",
    "    # Predict classes\n",
    "    predicted_classes = model.predict(normalized_tokenized_passwords)\n",
    "   \n",
    "    \n",
    "    return predicted_classes"
   ]
  },
  {
   "cell_type": "code",
   "execution_count": 20,
   "metadata": {},
   "outputs": [
    {
     "name": "stdout",
     "output_type": "stream",
     "text": [
      "  (0, 74)\t0.29297324349986054\n",
      "  (0, 68)\t0.5958890287751029\n",
      "  (0, 64)\t0.5202868202500205\n",
      "  (0, 63)\t0.3456849681692685\n",
      "  (0, 60)\t0.2519715585530849\n",
      "  (0, 59)\t0.3246487411263137\n",
      "Predicted classes: [0 2 1 1 1 0 1]\n"
     ]
    }
   ],
   "source": [
    "raw_passwords = ['mehdismi','AVYq1lDE4MgAZfNt','lamborghin1','SZD1111AZR285T30Z#[`|\\|FLZ TADDDDDDDDDDDDDDDDS 2T', 'securepasswasassord', 'weakpass', 'strongpassword']\n",
    "\n",
    "\n",
    "# Predict classes for all passwords\n",
    "predicted_classes = predict_password_classes(raw_passwords, vectorizer,tfidf_transformer , model1)\n",
    "\n",
    "print(\"Predicted classes:\", predicted_classes)"
   ]
  },
  {
   "cell_type": "markdown",
   "metadata": {},
   "source": [
    "saving the model"
   ]
  },
  {
   "cell_type": "code",
   "execution_count": 24,
   "metadata": {},
   "outputs": [
    {
     "data": {
      "text/plain": [
       "['transformer.joblib']"
      ]
     },
     "execution_count": 24,
     "metadata": {},
     "output_type": "execute_result"
    }
   ],
   "source": [
    "from joblib import dump\n",
    "\n",
    "# Assuming your trained model is named model1\n",
    "# Save the model to a file\n",
    "dump(model1, 'trained_model.joblib')\n",
    "dump(vectorizer, 'vectorizer.joblib')\n",
    "dump(tfidf_transformer, 'transformer.joblib')\n"
   ]
  },
  {
   "cell_type": "code",
   "execution_count": 23,
   "metadata": {},
   "outputs": [
    {
     "name": "stdout",
     "output_type": "stream",
     "text": [
      "Predicted classes: [0 2 1 1 1 0 1]\n"
     ]
    }
   ],
   "source": [
    "from joblib import load\n",
    "\n",
    "# Load the saved model from the file\n",
    "loaded_model = load('trained_model.joblib')\n",
    "\n",
    "# Now you can use loaded_model for making predictions\n",
    "predicted_classes = predict_password_classes(raw_passwords, vectorizer,tfidf_transformer , loaded_model)\n",
    "\n",
    "print(\"Predicted classes:\", predicted_classes)\n"
   ]
  }
 ],
 "metadata": {
  "kernelspec": {
   "display_name": "Python 3",
   "language": "python",
   "name": "python3"
  },
  "language_info": {
   "codemirror_mode": {
    "name": "ipython",
    "version": 3
   },
   "file_extension": ".py",
   "mimetype": "text/x-python",
   "name": "python",
   "nbconvert_exporter": "python",
   "pygments_lexer": "ipython3",
   "version": "3.11.4"
  }
 },
 "nbformat": 4,
 "nbformat_minor": 2
}
